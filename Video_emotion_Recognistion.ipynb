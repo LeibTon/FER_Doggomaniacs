{
  "nbformat": 4,
  "nbformat_minor": 0,
  "metadata": {
    "colab": {
      "name": "Video_emotion_Recognistion.ipynb",
      "provenance": [],
      "collapsed_sections": [],
      "include_colab_link": true
    },
    "kernelspec": {
      "name": "python3",
      "display_name": "Python 3"
    }
  },
  "cells": [
    {
      "cell_type": "markdown",
      "metadata": {
        "id": "view-in-github",
        "colab_type": "text"
      },
      "source": [
        "<a href=\"https://colab.research.google.com/github/spazewalker/FER_Doggomaniacs/blob/master/Video_emotion_Recognistion.ipynb\" target=\"_parent\"><img src=\"https://colab.research.google.com/assets/colab-badge.svg\" alt=\"Open In Colab\"/></a>"
      ]
    },
    {
      "cell_type": "code",
      "metadata": {
        "id": "eqe_qRJhdTTo",
        "colab_type": "code",
        "colab": {
          "base_uri": "https://localhost:8080/",
          "height": 34
        },
        "outputId": "a739e45a-81c1-4e9b-b4f2-9f599fa54685"
      },
      "source": [
        "import numpy as np\n",
        "import pandas as pd\n",
        "import itertools \n",
        "import keras\n",
        "from keras import layers\n",
        "from keras.layers import Conv2D, Input, Dense, MaxPool2D,BatchNormalization,Flatten,ZeroPadding2D,Activation,Dropout,LSTM\n",
        "from keras.models import Model\n",
        "import matplotlib.pyplot as plt\n",
        "from matplotlib.pyplot import imshow\n",
        "from sklearn.model_selection import train_test_split\n",
        "from sklearn.metrics import confusion_matrix\n",
        "from sklearn.model_selection import KFold\n",
        "%matplotlib inline"
      ],
      "execution_count": null,
      "outputs": [
        {
          "output_type": "stream",
          "text": [
            "Using TensorFlow backend.\n"
          ],
          "name": "stderr"
        }
      ]
    },
    {
      "cell_type": "code",
      "metadata": {
        "id": "QnMhs8f9W0Mc",
        "colab_type": "code",
        "colab": {
          "base_uri": "https://localhost:8080/",
          "height": 121
        },
        "outputId": "91404f10-45f7-4d1b-bddf-2447b6126348"
      },
      "source": [
        "from google.colab import drive\n",
        "drive.mount('/content/drive')"
      ],
      "execution_count": null,
      "outputs": [
        {
          "output_type": "stream",
          "text": [
            "Go to this URL in a browser: https://accounts.google.com/o/oauth2/auth?client_id=947318989803-6bn6qk8qdgf4n4g3pfee6491hc0brc4i.apps.googleusercontent.com&redirect_uri=urn%3aietf%3awg%3aoauth%3a2.0%3aoob&response_type=code&scope=email%20https%3a%2f%2fwww.googleapis.com%2fauth%2fdocs.test%20https%3a%2f%2fwww.googleapis.com%2fauth%2fdrive%20https%3a%2f%2fwww.googleapis.com%2fauth%2fdrive.photos.readonly%20https%3a%2f%2fwww.googleapis.com%2fauth%2fpeopleapi.readonly\n",
            "\n",
            "Enter your authorization code:\n",
            "··········\n",
            "Mounted at /content/drive\n"
          ],
          "name": "stdout"
        }
      ]
    },
    {
      "cell_type": "markdown",
      "metadata": {
        "id": "f71WkU8tndUi",
        "colab_type": "text"
      },
      "source": [
        "In classifier model I have removed the Sotftmax Layer and added a Dense layer to give embedding of length 128."
      ]
    },
    {
      "cell_type": "code",
      "metadata": {
        "id": "ut6E4vtZUEYN",
        "colab_type": "code",
        "colab": {}
      },
      "source": [
        ""
      ],
      "execution_count": null,
      "outputs": []
    },
    {
      "cell_type": "code",
      "metadata": {
        "id": "9YMUZkgyW6XP",
        "colab_type": "code",
        "colab": {}
      },
      "source": [
        "def classifierModel(X_input):\n",
        "  '''\n",
        "  Layer 1\n",
        "  '''\n",
        "  X = Conv2D(64,(7,7),strides=(2,2),name = 'conv2')(X_input)\n",
        "  X = Activation('relu')(X)\n",
        "  X = MaxPool2D((3,3),strides=(2,2),name='max_pool2')(X)\n",
        "  X = BatchNormalization()(X)\n",
        "\n",
        "  '''\n",
        "  Layer 2\n",
        "  '''\n",
        "  X1 = Conv2D(96,(1,1),name='conv4')(X)\n",
        "  X1 = Activation('relu')(X1)\n",
        "  X2 = MaxPool2D((3,3),strides=(1,1),name='max_pool3')(X)\n",
        "  X3 = Conv2D(208,(3,3),name='conv5')(X1)\n",
        "  X3 = Activation('relu')(X3)\n",
        "  X4 = Conv2D(64,(1,1),name='conv6')(X2)\n",
        "  X4 = Activation('relu')(X4)\n",
        "  chunk_1 = keras.layers.concatenate([X3,X4],axis=3)\n",
        "  '''\n",
        "  Layer 3\n",
        "  '''\n",
        "  X5 = Conv2D(96,(1,1),name='conv7')(chunk_1)\n",
        "  X5 = Activation('relu')(X5)\n",
        "  X6 = MaxPool2D((3,3),strides=(1,1),name='max_pool4')(chunk_1)\n",
        "  X7 = Conv2D(208, (3,3),name='conv8')(X5)\n",
        "  X7 = Activation('relu')(X7)\n",
        "  X8 = Conv2D(64,(1,1),name='conv9')(X6)\n",
        "  X8 = Activation('relu')(X8)\n",
        "  chunk_2 = keras.layers.concatenate([X7,X8],axis=3)\n",
        "  '''\n",
        "  Layer 4\n",
        "  '''\n",
        "  out = Flatten()(chunk_2)\n",
        "  out = Dropout(0.5)(out)\n",
        "  out = Dense(128,activation = 'linear')\n",
        "  return out\n"
      ],
      "execution_count": null,
      "outputs": []
    },
    {
      "cell_type": "markdown",
      "metadata": {
        "id": "wTykZ65cntOY",
        "colab_type": "text"
      },
      "source": [
        "1. Clip size will be fixed i.e. the number of images during transition of emotion.\n",
        "2. s0 and c0 are the initial hidden state and cell state for LSTM\n",
        "3. Outputs will be an array storing the output of each LSTM cell \n",
        "4. Then we will take the last output of LSTM cell as our final output "
      ]
    },
    {
      "cell_type": "code",
      "metadata": {
        "id": "Bmuhhdkxb8JI",
        "colab_type": "code",
        "colab": {}
      },
      "source": [
        "def LSTM_model(clip_size,hidden_state_size,input_size):\n",
        "  X_input = Input(shape = (clip_size,input_size))\n",
        "  s0 = Input(shape = (hidden_state_size,))\n",
        "  c0 = Input(shape = (hidden_state_size,))\n",
        "  s,c = s0,c0\n",
        "  outputs = []\n",
        "  for i in range(clip_size):\n",
        "    X = classifierModel(X_input[i])\n",
        "    s,_,c = LSTM(X,initial_state = [s, c],return_state = True)\n",
        "    out = Dense(7,activation = 'softmax')\n",
        "    outputs.append(out)\n",
        "  model = Model(inputs = [X_input,s0,c0],outputs = outputs[-1])\n",
        "  return model"
      ],
      "execution_count": null,
      "outputs": []
    },
    {
      "cell_type": "markdown",
      "metadata": {
        "id": "1kABRcIkko59",
        "colab_type": "text"
      },
      "source": [
        "Clip size yet to be decided and it will be same as hidden_state_size because there will be equal number of LSTM units as number of images in a clip.\n"
      ]
    },
    {
      "cell_type": "code",
      "metadata": {
        "id": "DXSlFLLTX80Z",
        "colab_type": "code",
        "colab": {}
      },
      "source": [
        "model1 = LSTM_model(clip_size = 12,hidden_state_size = 12,input_size = (48,48))"
      ],
      "execution_count": null,
      "outputs": []
    },
    {
      "cell_type": "code",
      "metadata": {
        "id": "P7CIMAmbYAvW",
        "colab_type": "code",
        "colab": {}
      },
      "source": [
        "model1.compile(optimizer='adam', loss='categorical_crossentropy', metrics=['accuracy'])"
      ],
      "execution_count": null,
      "outputs": []
    },
    {
      "cell_type": "code",
      "metadata": {
        "id": "2jxNm6pSlStD",
        "colab_type": "code",
        "colab": {}
      },
      "source": [
        "model1.summary()  "
      ],
      "execution_count": null,
      "outputs": []
    },
    {
      "cell_type": "code",
      "metadata": {
        "id": "Uu_VvA_UlxIB",
        "colab_type": "code",
        "colab": {}
      },
      "source": [
        "hidden_state_size = 12\n",
        "s0 = np.zeros((no._of_clips, hidden_state_size))\n",
        "c0 = np.zeros((no._of_clips, hidden_state_size))"
      ],
      "execution_count": null,
      "outputs": []
    },
    {
      "cell_type": "markdown",
      "metadata": {
        "id": "eYlrFCJHpegU",
        "colab_type": "text"
      },
      "source": [
        "Input_frames are of shape (m,clip_size,input_size)\n",
        "where input_size for eg. for FER2013 is (48,48)"
      ]
    },
    {
      "cell_type": "code",
      "metadata": {
        "id": "n02rMGzonA1b",
        "colab_type": "code",
        "colab": {}
      },
      "source": [
        "model.fit([Input_frames,s0,c0],outputs,epoch=5,batch_size = 128)"
      ],
      "execution_count": null,
      "outputs": []
    },
    {
      "cell_type": "code",
      "metadata": {
        "id": "aLbcJ7tSYEhH",
        "colab_type": "code",
        "colab": {}
      },
      "source": [
        "\n",
        "#kf = KFold(n_splits=10)\n",
        "#kf.get_n_splits(x)\n",
        "#print(kf)\n",
        "#model2 = classifierModel((48,48,1))\n",
        "#model2.compile(optimizer='adam', loss='categorical_crossentropy', metrics=['accuracy'])\n",
        "#for train_index,test_index in kf.split(x,np.asarray(data['emotion'])):\n",
        "\n",
        " # X_train, X_test = x[train_index], x[test_index]\n",
        " # y_train, y_test = y[train_index], y[test_index]\n",
        " # X_train = X_train.reshape(X_train.shape[0], 48, 48, 1)\n",
        " # X_test = X_test.reshape(X_test.shape[0], 48, 48, 1)\n",
        "\n",
        " # model2.fit(X_train,y_train,epochs=5,batch_size=128,validation_data=(X_test,y_test))"
      ],
      "execution_count": null,
      "outputs": []
    },
    {
      "cell_type": "code",
      "metadata": {
        "id": "-FXE520cZK5H",
        "colab_type": "code",
        "colab": {}
      },
      "source": [
        "class_names = ['Angry', 'Disgust', 'Fear', 'Happy', 'Sad', 'Surprise', 'Neutral']\n",
        "def plot_confusion_matrix(\n",
        "        cm,\n",
        "        classes,\n",
        "        normalize=False,\n",
        "        title='Confusion matrix',\n",
        "        cmap=plt.cm.Blues):\n",
        "    if normalize:\n",
        "        cm = cm.astype('float') / cm.sum(axis=1)[:, np.newaxis]\n",
        "        print(\"Normalized confusion matrix\")\n",
        "    else:\n",
        "        print('Confusion matrix, without normalization')\n",
        "    print(cm)\n",
        "    plt.figure(figsize=(10,10))\n",
        "    plt.imshow(cm, interpolation='nearest', cmap=cmap)\n",
        "    plt.title(title, fontsize=12)\n",
        "    plt.colorbar()\n",
        "    tick_marks = np.arange(len(classes))\n",
        "    plt.xticks(tick_marks, classes, rotation=45,color = 'black')\n",
        "    plt.yticks(tick_marks, classes,color = 'black')\n",
        "\n",
        "    fmt = '.2f' if normalize else 'd'\n",
        "    thresh = cm.max() / 2.\n",
        "    for i, j in itertools.product(range(cm.shape[0]), range(cm.shape[1])):\n",
        "        plt.text(j, i, format(cm[i, j], fmt),\n",
        "                 horizontalalignment=\"center\",\n",
        "                 color=\"white\" if cm[i, j] > thresh else \"black\")\n",
        "\n",
        "    plt.ylabel('True label', fontsize=12,color='black')\n",
        "    plt.xlabel('Predicted label', fontsize=12,color='black')\n",
        "    plt.tight_layout()\n",
        "    plt.savefig('confusion_matrix.png')"
      ],
      "execution_count": null,
      "outputs": []
    },
    {
      "cell_type": "code",
      "metadata": {
        "id": "Cjs8BTbnaSKQ",
        "colab_type": "code",
        "colab": {}
      },
      "source": [
        "ans = np.argmax(model2.predict(X_test),axis=-1)\n",
        "y_test = np.argmax(y_test,axis=1)"
      ],
      "execution_count": null,
      "outputs": []
    },
    {
      "cell_type": "code",
      "metadata": {
        "id": "cVrAg4FlbWAz",
        "colab_type": "code",
        "colab": {}
      },
      "source": [
        "matrix = confusion_matrix(y_test,ans)\n",
        "plot_confusion_matrix(\n",
        "        matrix,\n",
        "        classes=class_names,\n",
        "        normalize=True,\n",
        "        title='Confusion Matrix')"
      ],
      "execution_count": null,
      "outputs": []
    }
  ]
}