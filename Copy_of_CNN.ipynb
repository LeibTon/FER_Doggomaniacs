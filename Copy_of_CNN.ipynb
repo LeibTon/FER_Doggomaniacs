{
  "nbformat": 4,
  "nbformat_minor": 0,
  "metadata": {
    "colab": {
      "name": "Copy of CNN.ipynb",
      "provenance": [],
      "collapsed_sections": []
    },
    "kernelspec": {
      "name": "python3",
      "display_name": "Python 3"
    }
  },
  "cells": [
    {
      "cell_type": "code",
      "metadata": {
        "id": "RtG7TCY31F5h",
        "colab_type": "code",
        "colab": {}
      },
      "source": [
        "import numpy as np\n",
        "import pandas as pd\n",
        "import itertools \n",
        "import keras\n",
        "from keras import layers\n",
        "from keras.layers import Conv2D, Input, Dense, MaxPool2D,BatchNormalization,Flatten,ZeroPadding2D,Activation,Dropout\n",
        "from keras.models import Model\n",
        "import matplotlib.pyplot as plt\n",
        "from matplotlib.pyplot import imshow\n",
        "from sklearn.model_selection import train_test_split\n",
        "from sklearn.metrics import confusion_matrix\n",
        "from sklearn.model_selection import KFold\n",
        "\n",
        "%matplotlib inline"
      ],
      "execution_count": 0,
      "outputs": []
    },
    {
      "cell_type": "code",
      "metadata": {
        "id": "oPPEHKF4zitX",
        "colab_type": "code",
        "colab": {}
      },
      "source": [
        "data = pd.read_csv('/content/drive/My Drive/data/FER_preprocessed.csv')\n",
        "datapoints = data['pixels'].tolist()"
      ],
      "execution_count": 0,
      "outputs": []
    },
    {
      "cell_type": "code",
      "metadata": {
        "id": "TFCUhipd1DxV",
        "colab_type": "code",
        "colab": {}
      },
      "source": [
        "width, height = 48, 48\n",
        "X = []\n",
        "for xseq in datapoints:\n",
        "    x = [int(xp) for xp in xseq.split(' ')]\n",
        "    x = np.asarray(x).reshape(width, height)\n",
        "    X.append(x.astype('float64'))"
      ],
      "execution_count": 0,
      "outputs": []
    },
    {
      "cell_type": "code",
      "metadata": {
        "id": "zWe8JTOK1Fps",
        "colab_type": "code",
        "colab": {}
      },
      "source": [
        "y = pd.get_dummies(data['emotion']).to_numpy()\n",
        "x = X\n",
        "x -= np.mean(x, axis=0)\n",
        "x /= np.std(x, axis=0)"
      ],
      "execution_count": 0,
      "outputs": []
    },
    {
      "cell_type": "code",
      "metadata": {
        "id": "D707jhAkxu-P",
        "colab_type": "code",
        "outputId": "f0747333-df7c-485e-8024-b571ed60cb24",
        "colab": {
          "base_uri": "https://localhost:8080/",
          "height": 34
        }
      },
      "source": [
        "from google.colab import drive\n",
        "drive.mount('/content/drive')"
      ],
      "execution_count": 0,
      "outputs": [
        {
          "output_type": "stream",
          "text": [
            "Drive already mounted at /content/drive; to attempt to forcibly remount, call drive.mount(\"/content/drive\", force_remount=True).\n"
          ],
          "name": "stdout"
        }
      ]
    },
    {
      "cell_type": "code",
      "metadata": {
        "id": "NDI3s5qa1ouL",
        "colab_type": "code",
        "colab": {}
      },
      "source": [
        "X_train, X_test, y_train, y_test = train_test_split(x, y, test_size=0.2, random_state=42)\n",
        "X_train = X_train.reshape(X_train.shape[0], 48, 48, 1)\n",
        "X_test = X_test.reshape(X_test.shape[0], 48, 48, 1)"
      ],
      "execution_count": 0,
      "outputs": []
    },
    {
      "cell_type": "markdown",
      "metadata": {
        "id": "9gg_6ihx3LY6",
        "colab_type": "text"
      },
      "source": [
        "Define the model with input as input_shape i.e the shape of image\n"
      ]
    },
    {
      "cell_type": "code",
      "metadata": {
        "id": "jSQkN5FnOs8d",
        "colab_type": "code",
        "colab": {}
      },
      "source": [
        "def classifierModel(input_shape):\n",
        "  X_input = Input(input_shape)\n",
        "  '''\n",
        "  Layer 1\n",
        "  '''\n",
        "  X = Conv2D(64,(7,7),strides=(2,2),name = 'conv2')(X_input)\n",
        "  X = Activation('relu')(X)\n",
        "  X = MaxPool2D((3,3),strides=(2,2),name='max_pool2')(X)\n",
        "  X = BatchNormalization()(X)\n",
        "\n",
        "  '''\n",
        "  Layer 2\n",
        "  '''\n",
        "  X1 = Conv2D(96,(1,1),name='conv4')(X)\n",
        "  X1 = Activation('relu')(X1)\n",
        "  X2 = MaxPool2D((3,3),strides=(1,1),name='max_pool3')(X)\n",
        "  X3 = Conv2D(208,(3,3),name='conv5')(X1)\n",
        "  X3 = Activation('relu')(X3)\n",
        "  X4 = Conv2D(64,(1,1),name='conv6')(X2)\n",
        "  X4 = Activation('relu')(X4)\n",
        "  chunk_1 = keras.layers.concatenate([X3,X4],axis=3)\n",
        "  '''\n",
        "  Layer 3\n",
        "  '''\n",
        "  X5 = Conv2D(96,(1,1),name='conv7')(chunk_1)\n",
        "  X5 = Activation('relu')(X5)\n",
        "  X6 = MaxPool2D((3,3),strides=(1,1),name='max_pool4')(chunk_1)\n",
        "  X7 = Conv2D(208, (3,3),name='conv8')(X5)\n",
        "  X7 = Activation('relu')(X7)\n",
        "  X8 = Conv2D(64,(1,1),name='conv9')(X6)\n",
        "  X8 = Activation('relu')(X8)\n",
        "  chunk_2 = keras.layers.concatenate([X7,X8],axis=3)\n",
        "  '''\n",
        "  Layer 4\n",
        "  '''\n",
        "  out = Flatten()(chunk_2)\n",
        "  out = Dropout(0.5)(out)\n",
        "  out = Dense(7,activation='softmax',use_bias=True)(out)\n",
        "  model = Model(inputs=X_input,outputs=out,name='Second')\n",
        "  return model"
      ],
      "execution_count": 0,
      "outputs": []
    },
    {
      "cell_type": "code",
      "metadata": {
        "id": "_RqdSAfPTkCI",
        "colab_type": "code",
        "colab": {}
      },
      "source": [
        "model1 = classifierModel((48,48,1))"
      ],
      "execution_count": 0,
      "outputs": []
    },
    {
      "cell_type": "code",
      "metadata": {
        "id": "MR7paGNHT796",
        "colab_type": "code",
        "colab": {}
      },
      "source": [
        "model1.compile(optimizer='adam', loss='categorical_crossentropy', metrics=['accuracy'])"
      ],
      "execution_count": 0,
      "outputs": []
    },
    {
      "cell_type": "code",
      "metadata": {
        "id": "tVxXZ-p4UQFA",
        "colab_type": "code",
        "outputId": "714963d6-a653-4d3e-de13-528c16c546fb",
        "colab": {
          "base_uri": "https://localhost:8080/",
          "height": 386
        }
      },
      "source": [
        "model1.fit(X_train,y_train,epochs=10,batch_size=128,validation_data=(X_test,y_test),shuffle=True)"
      ],
      "execution_count": 0,
      "outputs": [
        {
          "output_type": "stream",
          "text": [
            "Train on 28709 samples, validate on 7178 samples\n",
            "Epoch 1/10\n",
            "28709/28709 [==============================] - 137s 5ms/step - loss: 1.6615 - accuracy: 0.3476 - val_loss: 1.6157 - val_accuracy: 0.4014\n",
            "Epoch 2/10\n",
            "28709/28709 [==============================] - 137s 5ms/step - loss: 1.4500 - accuracy: 0.4429 - val_loss: 1.4261 - val_accuracy: 0.4563\n",
            "Epoch 3/10\n",
            "28709/28709 [==============================] - 138s 5ms/step - loss: 1.3551 - accuracy: 0.4802 - val_loss: 1.3385 - val_accuracy: 0.4862\n",
            "Epoch 4/10\n",
            "28709/28709 [==============================] - 136s 5ms/step - loss: 1.2879 - accuracy: 0.5091 - val_loss: 1.3081 - val_accuracy: 0.5043\n",
            "Epoch 5/10\n",
            "28709/28709 [==============================] - 136s 5ms/step - loss: 1.2267 - accuracy: 0.5316 - val_loss: 1.2856 - val_accuracy: 0.5099\n",
            "Epoch 6/10\n",
            "28709/28709 [==============================] - 137s 5ms/step - loss: 1.1694 - accuracy: 0.5541 - val_loss: 1.2537 - val_accuracy: 0.5251\n",
            "Epoch 7/10\n",
            "28709/28709 [==============================] - 139s 5ms/step - loss: 1.1222 - accuracy: 0.5766 - val_loss: 1.2473 - val_accuracy: 0.5290\n",
            "Epoch 8/10\n",
            "28709/28709 [==============================] - 136s 5ms/step - loss: 1.0676 - accuracy: 0.5968 - val_loss: 1.2368 - val_accuracy: 0.5270\n",
            "Epoch 9/10\n",
            "28709/28709 [==============================] - 136s 5ms/step - loss: 1.0179 - accuracy: 0.6169 - val_loss: 1.2265 - val_accuracy: 0.5411\n",
            "Epoch 10/10\n",
            "28709/28709 [==============================] - 137s 5ms/step - loss: 0.9637 - accuracy: 0.6406 - val_loss: 1.2449 - val_accuracy: 0.5386\n"
          ],
          "name": "stdout"
        },
        {
          "output_type": "execute_result",
          "data": {
            "text/plain": [
              "<keras.callbacks.callbacks.History at 0x7f746adbbba8>"
            ]
          },
          "metadata": {
            "tags": []
          },
          "execution_count": 33
        }
      ]
    },
    {
      "cell_type": "code",
      "metadata": {
        "id": "KwXJnRaj-ODu",
        "colab_type": "code",
        "outputId": "bdc26cf2-3974-4f25-ea40-8db93f6477f8",
        "colab": {
          "base_uri": "https://localhost:8080/",
          "height": 991
        }
      },
      "source": [
        "model1.summary()"
      ],
      "execution_count": 0,
      "outputs": [
        {
          "output_type": "stream",
          "text": [
            "Model: \"Second\"\n",
            "__________________________________________________________________________________________________\n",
            "Layer (type)                    Output Shape         Param #     Connected to                     \n",
            "==================================================================================================\n",
            "input_4 (InputLayer)            (None, 48, 48, 1)    0                                            \n",
            "__________________________________________________________________________________________________\n",
            "conv2 (Conv2D)                  (None, 21, 21, 64)   3200        input_4[0][0]                    \n",
            "__________________________________________________________________________________________________\n",
            "activation_22 (Activation)      (None, 21, 21, 64)   0           conv2[0][0]                      \n",
            "__________________________________________________________________________________________________\n",
            "max_pool2 (MaxPooling2D)        (None, 10, 10, 64)   0           activation_22[0][0]              \n",
            "__________________________________________________________________________________________________\n",
            "batch_normalization_4 (BatchNor (None, 10, 10, 64)   256         max_pool2[0][0]                  \n",
            "__________________________________________________________________________________________________\n",
            "conv4 (Conv2D)                  (None, 10, 10, 96)   6240        batch_normalization_4[0][0]      \n",
            "__________________________________________________________________________________________________\n",
            "activation_23 (Activation)      (None, 10, 10, 96)   0           conv4[0][0]                      \n",
            "__________________________________________________________________________________________________\n",
            "max_pool3 (MaxPooling2D)        (None, 8, 8, 64)     0           batch_normalization_4[0][0]      \n",
            "__________________________________________________________________________________________________\n",
            "conv5 (Conv2D)                  (None, 8, 8, 208)    179920      activation_23[0][0]              \n",
            "__________________________________________________________________________________________________\n",
            "conv6 (Conv2D)                  (None, 8, 8, 64)     4160        max_pool3[0][0]                  \n",
            "__________________________________________________________________________________________________\n",
            "activation_24 (Activation)      (None, 8, 8, 208)    0           conv5[0][0]                      \n",
            "__________________________________________________________________________________________________\n",
            "activation_25 (Activation)      (None, 8, 8, 64)     0           conv6[0][0]                      \n",
            "__________________________________________________________________________________________________\n",
            "concatenate_7 (Concatenate)     (None, 8, 8, 272)    0           activation_24[0][0]              \n",
            "                                                                 activation_25[0][0]              \n",
            "__________________________________________________________________________________________________\n",
            "conv7 (Conv2D)                  (None, 8, 8, 96)     26208       concatenate_7[0][0]              \n",
            "__________________________________________________________________________________________________\n",
            "activation_26 (Activation)      (None, 8, 8, 96)     0           conv7[0][0]                      \n",
            "__________________________________________________________________________________________________\n",
            "max_pool4 (MaxPooling2D)        (None, 6, 6, 272)    0           concatenate_7[0][0]              \n",
            "__________________________________________________________________________________________________\n",
            "conv8 (Conv2D)                  (None, 6, 6, 208)    179920      activation_26[0][0]              \n",
            "__________________________________________________________________________________________________\n",
            "conv9 (Conv2D)                  (None, 6, 6, 64)     17472       max_pool4[0][0]                  \n",
            "__________________________________________________________________________________________________\n",
            "activation_27 (Activation)      (None, 6, 6, 208)    0           conv8[0][0]                      \n",
            "__________________________________________________________________________________________________\n",
            "activation_28 (Activation)      (None, 6, 6, 64)     0           conv9[0][0]                      \n",
            "__________________________________________________________________________________________________\n",
            "concatenate_8 (Concatenate)     (None, 6, 6, 272)    0           activation_27[0][0]              \n",
            "                                                                 activation_28[0][0]              \n",
            "__________________________________________________________________________________________________\n",
            "flatten_4 (Flatten)             (None, 9792)         0           concatenate_8[0][0]              \n",
            "__________________________________________________________________________________________________\n",
            "dropout_4 (Dropout)             (None, 9792)         0           flatten_4[0][0]                  \n",
            "__________________________________________________________________________________________________\n",
            "dense_4 (Dense)                 (None, 7)            68551       dropout_4[0][0]                  \n",
            "==================================================================================================\n",
            "Total params: 485,927\n",
            "Trainable params: 485,799\n",
            "Non-trainable params: 128\n",
            "__________________________________________________________________________________________________\n"
          ],
          "name": "stdout"
        }
      ]
    },
    {
      "cell_type": "code",
      "metadata": {
        "id": "sLgUAPdQv0WE",
        "colab_type": "code",
        "outputId": "528ef756-7f95-47ba-a993-bfe74cee1227",
        "colab": {
          "base_uri": "https://localhost:8080/",
          "height": 958
        }
      },
      "source": [
        "n_folds = 3\n",
        "kf = KFold(n_splits=3)\n",
        "kf.get_n_splits(x)\n",
        "print(kf)\n",
        "model2 = classifierModel((48,48,1))\n",
        "model2.compile(optimizer='adam', loss='categorical_crossentropy', metrics=['accuracy'])\n",
        "for train_index,test_index in skf.split(x,np.asarray(data['emotion'])):\n",
        "  #print(\"Running Fold\", i+1, \"/\", n_folds)\n",
        "  #print(train_index,test_index)\n",
        "  X_train, X_test = x[train_index], x[test_index]\n",
        "  y_train, y_test = y[train_index], y[test_index]\n",
        "  X_train = X_train.reshape(X_train.shape[0], 48, 48, 1)\n",
        "  X_test = X_test.reshape(X_test.shape[0], 48, 48, 1)\n",
        "\n",
        "  model2.fit(X_train,y_train,epochs=5,batch_size=128,validation_data=(X_test,y_test))"
      ],
      "execution_count": 0,
      "outputs": [
        {
          "output_type": "stream",
          "text": [
            "KFold(n_splits=3, random_state=None, shuffle=False)\n",
            "Train on 28709 samples, validate on 7178 samples\n",
            "Epoch 1/5\n",
            "28709/28709 [==============================] - 140s 5ms/step - loss: 1.6184 - accuracy: 0.3619 - val_loss: 1.6165 - val_accuracy: 0.4273\n",
            "Epoch 2/5\n",
            "28709/28709 [==============================] - 140s 5ms/step - loss: 1.4280 - accuracy: 0.4519 - val_loss: 1.3827 - val_accuracy: 0.4707\n",
            "Epoch 3/5\n",
            "28709/28709 [==============================] - 142s 5ms/step - loss: 1.3403 - accuracy: 0.4874 - val_loss: 1.3447 - val_accuracy: 0.4887\n",
            "Epoch 4/5\n",
            "28709/28709 [==============================] - 140s 5ms/step - loss: 1.2547 - accuracy: 0.5213 - val_loss: 1.3218 - val_accuracy: 0.4908\n",
            "Epoch 5/5\n",
            "28709/28709 [==============================] - 140s 5ms/step - loss: 1.1944 - accuracy: 0.5499 - val_loss: 1.2906 - val_accuracy: 0.5008\n",
            "Train on 28709 samples, validate on 7178 samples\n",
            "Epoch 1/5\n",
            "28709/28709 [==============================] - 139s 5ms/step - loss: 1.1803 - accuracy: 0.5564 - val_loss: 1.1188 - val_accuracy: 0.5758\n",
            "Epoch 2/5\n",
            "28709/28709 [==============================] - 141s 5ms/step - loss: 1.1216 - accuracy: 0.5793 - val_loss: 1.0999 - val_accuracy: 0.5841\n",
            "Epoch 3/5\n",
            "28709/28709 [==============================] - 141s 5ms/step - loss: 1.0642 - accuracy: 0.6046 - val_loss: 1.1054 - val_accuracy: 0.5893\n",
            "Epoch 4/5\n",
            "28709/28709 [==============================] - 141s 5ms/step - loss: 0.9993 - accuracy: 0.6265 - val_loss: 1.0984 - val_accuracy: 0.5907\n",
            "Epoch 5/5\n",
            "28709/28709 [==============================] - 139s 5ms/step - loss: 0.9433 - accuracy: 0.6465 - val_loss: 1.1050 - val_accuracy: 0.5855\n",
            "Train on 28710 samples, validate on 7177 samples\n",
            "Epoch 1/5\n",
            "28710/28710 [==============================] - 140s 5ms/step - loss: 0.9850 - accuracy: 0.6360 - val_loss: 0.8350 - val_accuracy: 0.7039\n",
            "Epoch 2/5\n",
            "28710/28710 [==============================] - 140s 5ms/step - loss: 0.9135 - accuracy: 0.6626 - val_loss: 0.8564 - val_accuracy: 0.6887\n",
            "Epoch 3/5\n",
            "28710/28710 [==============================] - 138s 5ms/step - loss: 0.8535 - accuracy: 0.6843 - val_loss: 0.8523 - val_accuracy: 0.6883\n",
            "Epoch 4/5\n",
            "28710/28710 [==============================] - 138s 5ms/step - loss: 0.7841 - accuracy: 0.7090 - val_loss: 0.8651 - val_accuracy: 0.6802\n",
            "Epoch 5/5\n",
            "28710/28710 [==============================] - 139s 5ms/step - loss: 0.7452 - accuracy: 0.7250 - val_loss: 0.8841 - val_accuracy: 0.6749\n",
            "Train on 28710 samples, validate on 7177 samples\n",
            "Epoch 1/5\n",
            "28710/28710 [==============================] - 140s 5ms/step - loss: 0.8047 - accuracy: 0.7075 - val_loss: 0.5460 - val_accuracy: 0.8138\n",
            "Epoch 2/5\n",
            "28710/28710 [==============================] - 139s 5ms/step - loss: 0.7306 - accuracy: 0.7313 - val_loss: 0.5864 - val_accuracy: 0.7964\n",
            "Epoch 3/5\n",
            "28710/28710 [==============================] - 141s 5ms/step - loss: 0.6735 - accuracy: 0.7527 - val_loss: 0.6008 - val_accuracy: 0.7849\n",
            "Epoch 4/5\n",
            "28710/28710 [==============================] - 141s 5ms/step - loss: 0.6332 - accuracy: 0.7664 - val_loss: 0.6216 - val_accuracy: 0.7727\n",
            "Epoch 5/5\n",
            "28710/28710 [==============================] - 140s 5ms/step - loss: 0.5853 - accuracy: 0.7836 - val_loss: 0.6638 - val_accuracy: 0.7542\n",
            "Train on 28710 samples, validate on 7177 samples\n",
            "Epoch 1/5\n",
            "28710/28710 [==============================] - 141s 5ms/step - loss: 0.6596 - accuracy: 0.7598 - val_loss: 0.3845 - val_accuracy: 0.8830\n",
            "Epoch 2/5\n",
            "28710/28710 [==============================] - 141s 5ms/step - loss: 0.5909 - accuracy: 0.7833 - val_loss: 0.4116 - val_accuracy: 0.8704\n",
            "Epoch 3/5\n",
            "28710/28710 [==============================] - 141s 5ms/step - loss: 0.5372 - accuracy: 0.8007 - val_loss: 0.4378 - val_accuracy: 0.8495\n",
            "Epoch 4/5\n",
            "28710/28710 [==============================] - 140s 5ms/step - loss: 0.5150 - accuracy: 0.8092 - val_loss: 0.4670 - val_accuracy: 0.8271\n",
            "Epoch 5/5\n",
            "28710/28710 [==============================] - 143s 5ms/step - loss: 0.4777 - accuracy: 0.8235 - val_loss: 0.4842 - val_accuracy: 0.8253\n"
          ],
          "name": "stdout"
        }
      ]
    },
    {
      "cell_type": "code",
      "metadata": {
        "id": "U2iiujhLDrsn",
        "colab_type": "code",
        "colab": {}
      },
      "source": [
        "class_names = ['Angry', 'Disgust', 'Fear', 'Happy', 'Sad', 'Surprise', 'Neutral']\n",
        "def plot_confusion_matrix(\n",
        "        cm,\n",
        "        classes,\n",
        "        normalize=False,\n",
        "        title='Confusion matrix',\n",
        "        cmap=plt.cm.Blues):\n",
        "    if normalize:\n",
        "        cm = cm.astype('float') / cm.sum(axis=1)[:, np.newaxis]\n",
        "        print(\"Normalized confusion matrix\")\n",
        "    else:\n",
        "        print('Confusion matrix, without normalization')\n",
        "    print(cm)\n",
        "    plt.figure(figsize=(10,10))\n",
        "    plt.imshow(cm, interpolation='nearest', cmap=cmap)\n",
        "    plt.title(title, fontsize=12)\n",
        "    plt.colorbar()\n",
        "    tick_marks = np.arange(len(classes))\n",
        "    plt.xticks(tick_marks, classes, rotation=45,color = 'black')\n",
        "    plt.yticks(tick_marks, classes,color = 'black')\n",
        "\n",
        "    fmt = '.2f' if normalize else 'd'\n",
        "    thresh = cm.max() / 2.\n",
        "    for i, j in itertools.product(range(cm.shape[0]), range(cm.shape[1])):\n",
        "        plt.text(j, i, format(cm[i, j], fmt),\n",
        "                 horizontalalignment=\"center\",\n",
        "                 color=\"white\" if cm[i, j] > thresh else \"black\")\n",
        "\n",
        "    plt.ylabel('True label', fontsize=12,color='black')\n",
        "    plt.xlabel('Predicted label', fontsize=12,color='black')\n",
        "    plt.tight_layout()\n",
        "    plt.savefig('confusion_matrix.png')"
      ],
      "execution_count": 0,
      "outputs": []
    },
    {
      "cell_type": "code",
      "metadata": {
        "id": "UfqfQpaDETPI",
        "colab_type": "code",
        "outputId": "fc6ab86d-d500-43ef-d450-788cf639199f",
        "colab": {
          "base_uri": "https://localhost:8080/",
          "height": 134
        }
      },
      "source": [
        "print(y_test)\n",
        "ans = np.argmax(model2.predict(X_test),axis=-1)\n",
        "y_test = np.argmax(y_test,axis=1)\n"
      ],
      "execution_count": 0,
      "outputs": [
        {
          "output_type": "stream",
          "text": [
            "[[1 0 0 ... 0 0 0]\n",
            " [1 0 0 ... 0 0 0]\n",
            " [1 0 0 ... 0 0 0]\n",
            " ...\n",
            " [1 0 0 ... 0 0 0]\n",
            " [0 0 0 ... 0 0 0]\n",
            " [0 0 1 ... 0 0 0]]\n"
          ],
          "name": "stdout"
        }
      ]
    },
    {
      "cell_type": "code",
      "metadata": {
        "id": "tMfp_oiqILWh",
        "colab_type": "code",
        "outputId": "b96d1e38-63fd-4978-9687-bb88e0d3633f",
        "colab": {
          "base_uri": "https://localhost:8080/",
          "height": 970
        }
      },
      "source": [
        "matrix = confusion_matrix(y_test,ans)\n",
        "plot_confusion_matrix(\n",
        "        matrix,\n",
        "        classes=class_names,\n",
        "        normalize=True,\n",
        "        title='Confusion Matrix')"
      ],
      "execution_count": 0,
      "outputs": [
        {
          "output_type": "stream",
          "text": [
            "Normalized confusion matrix\n",
            "[[7.74747475e-01 0.00000000e+00 4.84848485e-02 3.83838384e-02\n",
            "  6.66666667e-02 3.03030303e-03 6.86868687e-02]\n",
            " [7.33944954e-02 7.33944954e-01 2.75229358e-02 3.66972477e-02\n",
            "  7.33944954e-02 1.83486239e-02 3.66972477e-02]\n",
            " [4.68750000e-02 0.00000000e+00 7.15820312e-01 4.29687500e-02\n",
            "  9.57031250e-02 2.63671875e-02 7.22656250e-02]\n",
            " [9.45494994e-03 0.00000000e+00 8.34260289e-03 9.39933259e-01\n",
            "  1.50166852e-02 5.00556174e-03 2.22469410e-02]\n",
            " [5.67434211e-02 8.22368421e-04 4.27631579e-02 3.78289474e-02\n",
            "  7.87006579e-01 3.28947368e-03 7.15460526e-02]\n",
            " [1.24843945e-02 0.00000000e+00 5.99250936e-02 2.49687890e-02\n",
            "  1.49812734e-02 8.72659176e-01 1.49812734e-02]\n",
            " [2.90556901e-02 8.07102502e-04 2.90556901e-02 6.37610977e-02\n",
            "  6.94108152e-02 3.22841001e-03 8.04681195e-01]]\n"
          ],
          "name": "stdout"
        },
        {
          "output_type": "display_data",
          "data": {
            "image/png": "[encoded data removed]",
            "text/plain": [
              "<Figure size 720x720 with 2 Axes>"
            ]
          },
          "metadata": {
            "tags": [],
            "needs_background": "light"
          }
        }
      ]
    },
    {
      "cell_type": "code",
      "metadata": {
        "id": "Ku1hTIrwI370",
        "colab_type": "code",
        "outputId": "6335bc2f-5817-44c5-8364-698cab7ff018",
        "colab": {
          "base_uri": "https://localhost:8080/",
          "height": 84
        }
      },
      "source": [
        "for key in model1.history.history.keys():\n",
        "    print(key)"
      ],
      "execution_count": 0,
      "outputs": [
        {
          "output_type": "stream",
          "text": [
            "val_loss\n",
            "val_accuracy\n",
            "loss\n",
            "accuracy\n"
          ],
          "name": "stdout"
        }
      ]
    },
    {
      "cell_type": "code",
      "metadata": {
        "id": "o_ML4FlA4lP2",
        "colab_type": "code",
        "outputId": "94c5030f-1481-4a7f-dc38-b1feeda79f19",
        "colab": {
          "base_uri": "https://localhost:8080/",
          "height": 295
        }
      },
      "source": [
        "plt.plot(model2.history.history['accuracy'],'r')\n",
        "plt.plot(model2.history.history['val_accuracy'],'b')\n",
        "plt.title('model accuracy')\n",
        "plt.ylabel('accuracy')\n",
        "plt.xlabel('epoch')\n",
        "plt.legend(['train', 'val'], loc='upper left')\n",
        "plt.savefig('model_accuracy.png')\n",
        "plt.show()"
      ],
      "execution_count": 0,
      "outputs": [
        {
          "output_type": "display_data",
          "data": {
            "image/png": "[encoded data removed]",
            "text/plain": [
              "<Figure size 432x288 with 1 Axes>"
            ]
          },
          "metadata": {
            "tags": [],
            "needs_background": "light"
          }
        }
      ]
    },
    {
      "cell_type": "code",
      "metadata": {
        "id": "ViBUUz_W4xN2",
        "colab_type": "code",
        "colab": {}
      },
      "source": [
        ""
      ],
      "execution_count": 0,
      "outputs": []
    }
  ]
}